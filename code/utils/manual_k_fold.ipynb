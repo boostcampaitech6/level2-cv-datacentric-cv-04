{
 "cells": [
  {
   "cell_type": "code",
   "execution_count": 2,
   "id": "1180a0cb",
   "metadata": {},
   "outputs": [
    {
     "data": {
      "text/plain": [
       "260"
      ]
     },
     "execution_count": 2,
     "metadata": {},
     "output_type": "execute_result"
    }
   ],
   "source": [
    "import os\n",
    "import os.path as osp\n",
    "import json\n",
    "\n",
    "\n",
    "# json 파일 불러오기\n",
    "with open(\"../../data/medical/ufo/train_ver3.json\", \"r\") as f:\n",
    "    annotations_1 = json.load(f)\n",
    "\n",
    "# file name list로 저장\n",
    "file_names_1 = sorted(annotations_1[\"images\"].keys())\n",
    "len(file_names_1)"
   ]
  },
  {
   "cell_type": "code",
   "execution_count": 3,
   "id": "b323bf88",
   "metadata": {},
   "outputs": [
    {
     "data": {
      "text/plain": [
       "265"
      ]
     },
     "execution_count": 3,
     "metadata": {},
     "output_type": "execute_result"
    }
   ],
   "source": [
    "# json 파일 불러오기\n",
    "with open(\"../../data/medical/ufo/final_cleansed_train.json\", \"r\") as f:\n",
    "    annotations_2 = json.load(f)\n",
    "\n",
    "# file name list로 저장\n",
    "file_names_2 = sorted(annotations_2[\"images\"].keys())\n",
    "len(file_names_2)"
   ]
  },
  {
   "cell_type": "code",
   "execution_count": 5,
   "id": "552f280d",
   "metadata": {},
   "outputs": [
    {
     "name": "stdout",
     "output_type": "stream",
     "text": [
      "5350078-2011-0001-0019.jpg\n",
      "5350159-2011-0001-0040.jpg\n",
      "5350178-2011-0001-0045.jpg\n",
      "5350180-2011-0001-0014.jpg\n",
      "5350190-2013-0001-0014.jpg\n"
     ]
    }
   ],
   "source": [
    "difference = []\n",
    "for i in file_names_2:\n",
    "    if i not in file_names_1:\n",
    "        difference.append(i)\n",
    "        print(i)"
   ]
  },
  {
   "cell_type": "code",
   "execution_count": 6,
   "id": "95ff42ed",
   "metadata": {},
   "outputs": [
    {
     "name": "stdout",
     "output_type": "stream",
     "text": [
      "5350078-2011-0001-0019.jpg\n",
      "5350159-2011-0001-0040.jpg\n",
      "5350178-2011-0001-0045.jpg\n",
      "5350180-2011-0001-0014.jpg\n",
      "5350190-2013-0001-0014.jpg\n"
     ]
    }
   ],
   "source": [
    "shit2 = [\"5350047-2011-0001-0023.jpg\", \"5350080-2011-0001-0054.jpg\", \"5350143-2011-0001-0021.jpg\", \"5350193-2013-0001-0103.jpg\", \"5350078-2011-0001-0019.jpg\", \"5350140-2011-0001-0058.jpg\", \"5350159-2011-0001-0040.jpg\", \"5350178-2011-0001-0045.jpg\", \"5350180-2011-0001-0014.jpg\", \"5350190-2013-0001-0014.jpg\", \"5350204-2013-0001-0074.jpg\", \"5350213-2013-0001-0025.jpg\"]\n",
    "\n",
    "for i in difference:\n",
    "    if i in shit2:\n",
    "        print(i)"
   ]
  },
  {
   "cell_type": "code",
   "execution_count": 18,
   "id": "c785feac-85a3-41df-b970-8330342c5154",
   "metadata": {},
   "outputs": [],
   "source": [
    "import os\n",
    "import os.path as osp\n",
    "import json\n",
    "\n",
    "from argparse import ArgumentParser"
   ]
  },
  {
   "cell_type": "markdown",
   "id": "58a7d951",
   "metadata": {},
   "source": [
    "### 짜바리 이미지, 해당 정보를 json 파일에서 삭제"
   ]
  },
  {
   "cell_type": "code",
   "execution_count": 7,
   "id": "85adf855",
   "metadata": {},
   "outputs": [
    {
     "data": {
      "text/plain": [
       "12"
      ]
     },
     "execution_count": 7,
     "metadata": {},
     "output_type": "execute_result"
    }
   ],
   "source": [
    "shit = ['5350036-2011-0001-0026.jpg', '5350047-2013-0001-0026.jpg', '5350047-2013-0001-0028.jpg', '5350069-2011-0001-0029.jpg', '5350078-2011-0001-0022.jpg', '5350080-2011-0001-0050.jpg', '5350080-2011-0001-0052.jpg', '5350080-2011-0001-0056.jpg', '5350119-2011-0001-0014.jpg', '5350119-2012-0001-0017.jpg', '5350120-2012-0001-0021.jpg', '5350140-2011-0001-0056.jpg', '5350140-2011-0001-0060.jpg', '5350140-2013-0001-0097.jpg', '5350140-2013-0001-0099.jpg', '5350140-2013-0001-0101.jpg', '5350140-2013-0001-0103.jpg', '5350142-2013-0001-0035.jpg', '5350171-2013-0001-0061.jpg', '5350174-2011-0001-0019.jpg', '5350192-2011-0001-0012.jpg', '5350194-2013-0001-0062.jpg', '5350194-2013-0001-0065.jpg', '5350194-2013-0001-0068.jpg', '5350194-2013-0001-0071.jpg', '5350197-2011-0001-0016.jpg', '5350199-2011-0001-0016.jpg', '5350203-2013-0001-0052.jpg', '5350204-2013-0001-0070.jpg', '5350204-2013-0001-0079.jpg', '5350205-2013-0001-0102.jpg', '5350205-2013-0001-0106.jpg', '5350205-2013-0001-0108.jpg', '5350205-2013-0001-0109.jpg', '5350205-2013-0001-0112.jpg', '5350205-2013-0001-0114.jpg']\n",
    "shit2 = [\"5350047-2011-0001-0023.jpg\", \"5350080-2011-0001-0054.jpg\", \"5350143-2011-0001-0021.jpg\", \"5350193-2013-0001-0103.jpg\", \"5350078-2011-0001-0019.jpg\", \"5350140-2011-0001-0058.jpg\", \"5350159-2011-0001-0040.jpg\", \"5350178-2011-0001-0045.jpg\", \"5350180-2011-0001-0014.jpg\", \"5350190-2013-0001-0014.jpg\", \"5350204-2013-0001-0074.jpg\", \"5350213-2013-0001-0025.jpg\"]\n",
    "shit = shit + shit2\n",
    "len(shit2)"
   ]
  },
  {
   "cell_type": "code",
   "execution_count": 24,
   "id": "0f2a13be",
   "metadata": {},
   "outputs": [
    {
     "data": {
      "text/plain": [
       "260"
      ]
     },
     "execution_count": 24,
     "metadata": {},
     "output_type": "execute_result"
    }
   ],
   "source": [
    "# json 파일 불러오기\n",
    "with open(\"../../data/medical/ufo/train_ver2.json\", \"r\") as f:\n",
    "    annotations = json.load(f)\n",
    "\n",
    "# file name list로 저장\n",
    "file_names = sorted(annotations[\"images\"].keys())\n",
    "len(file_names)"
   ]
  },
  {
   "cell_type": "code",
   "execution_count": 25,
   "id": "a330075e",
   "metadata": {},
   "outputs": [
    {
     "data": {
      "text/plain": [
       "260"
      ]
     },
     "execution_count": 25,
     "metadata": {},
     "output_type": "execute_result"
    }
   ],
   "source": [
    "new_ann = dict()\n",
    "for name in file_names:\n",
    "    if name not in shit:\n",
    "        new_ann[name] = annotations[\"images\"][name]\n",
    "len(new_ann)"
   ]
  },
  {
   "cell_type": "code",
   "execution_count": 23,
   "id": "4f5309e6",
   "metadata": {},
   "outputs": [],
   "source": [
    "with open(\"../../data/medical/ufo/train_ver2.json\", \"w\") as f:\n",
    "    json.dump({\"images\":new_ann}, f, indent=4, sort_keys=True)"
   ]
  },
  {
   "cell_type": "markdown",
   "id": "2f51448f",
   "metadata": {},
   "source": [
    "이미지도 train 폴더 내에서 타노스 해버리기"
   ]
  },
  {
   "cell_type": "code",
   "execution_count": 28,
   "id": "2648c381",
   "metadata": {},
   "outputs": [],
   "source": [
    "for i in shit:\n",
    "    os.remove(os.path.join(\"../../data/medical/img/train/\", f\"{i}\"))"
   ]
  },
  {
   "cell_type": "markdown",
   "id": "617eb1e5",
   "metadata": {},
   "source": [
    "잘 삭제 되었는지 확인"
   ]
  },
  {
   "cell_type": "code",
   "execution_count": 29,
   "id": "b4039cd9",
   "metadata": {},
   "outputs": [
    {
     "data": {
      "text/plain": [
       "260"
      ]
     },
     "execution_count": 29,
     "metadata": {},
     "output_type": "execute_result"
    }
   ],
   "source": [
    "images = os.listdir(\"../../data/medical/img/train/\")\n",
    "len(images)"
   ]
  },
  {
   "cell_type": "markdown",
   "id": "f216e044",
   "metadata": {},
   "source": [
    "### k-fold"
   ]
  },
  {
   "cell_type": "code",
   "execution_count": 1,
   "id": "df0e0973",
   "metadata": {},
   "outputs": [],
   "source": [
    "import os\n",
    "import os.path as osp\n",
    "import json\n",
    "\n",
    "\n",
    "# file_names 슬라이싱 결과를 통해 fold로 나눠주는 함수\n",
    "def make_k_fold(file_names, annotations):\n",
    "    new_ann = dict()\n",
    "    for file_name in file_names:\n",
    "        new_ann[file_name] = annotations[\"images\"][file_name]\n",
    "    return new_ann\n",
    "\n",
    "\n",
    "# ufo format으로 json 파일을 저장해주는 함수\n",
    "def save_ufo(file, dict_file):\n",
    "    with open(file, \"w\") as f:\n",
    "        json.dump({\"images\": dict_file}, f, indent=2, sort_keys=True)\n",
    "    print(f\"saved {file}\")\n",
    "\n",
    "\n",
    "def manual_k_fold(root_dir, annotations, n_fold):\n",
    "    # json 파일 불러오기\n",
    "    with open(osp.join(root_dir, f\"ufo/{annotations}\"), \"r\") as f:\n",
    "        annotations = json.load(f)\n",
    "\n",
    "    # file name list로 저장\n",
    "    file_names = sorted(annotations[\"images\"].keys())\n",
    "    \n",
    "    split_cnt = len(file_names)//n_fold\n",
    "    print(f\"n_fold: {n_fold}\")\n",
    "\n",
    "    for i in range(n_fold):\n",
    "        valid = make_k_fold(file_names[i*split_cnt:(i+1)*split_cnt], annotations)\n",
    "        train = make_k_fold(file_names[:i*split_cnt], annotations)\n",
    "        train.update(make_k_fold(file_names[(i+1)*split_cnt:], annotations))\n",
    "        save_ufo(osp.join(root_dir, f\"ufo/valid{i+1}.json\"), valid)\n",
    "        save_ufo(osp.join(root_dir, f\"ufo/train{i+1}.json\"), train)\n",
    "        print(f\"valid{i+1}: {len(valid)}\")\n",
    "        print(f\"train{i+1}: {len(train)}\")"
   ]
  },
  {
   "cell_type": "code",
   "execution_count": 2,
   "id": "b7e3aa03",
   "metadata": {},
   "outputs": [
    {
     "name": "stdout",
     "output_type": "stream",
     "text": [
      "n_fold: 6\n",
      "saved ../../data/medical/ufo/valid1.json\n",
      "saved ../../data/medical/ufo/train1.json\n",
      "valid1: 43\n",
      "train1: 217\n",
      "saved ../../data/medical/ufo/valid2.json\n",
      "saved ../../data/medical/ufo/train2.json\n",
      "valid2: 43\n",
      "train2: 217\n",
      "saved ../../data/medical/ufo/valid3.json\n",
      "saved ../../data/medical/ufo/train3.json\n",
      "valid3: 43\n",
      "train3: 217\n",
      "saved ../../data/medical/ufo/valid4.json\n",
      "saved ../../data/medical/ufo/train4.json\n",
      "valid4: 43\n",
      "train4: 217\n",
      "saved ../../data/medical/ufo/valid5.json\n",
      "saved ../../data/medical/ufo/train5.json\n",
      "valid5: 43\n",
      "train5: 217\n",
      "saved ../../data/medical/ufo/valid6.json\n",
      "saved ../../data/medical/ufo/train6.json\n",
      "valid6: 43\n",
      "train6: 217\n"
     ]
    }
   ],
   "source": [
    "root_dir = \"../../data/medical/\"\n",
    "annotations = \"train_ver3.json\"\n",
    "n_fold = 6\n",
    "manual_k_fold(root_dir, annotations, n_fold)"
   ]
  },
  {
   "cell_type": "code",
   "execution_count": null,
   "id": "1353915c",
   "metadata": {},
   "outputs": [],
   "source": []
  }
 ],
 "metadata": {
  "kernelspec": {
   "display_name": "Python 3 (ipykernel)",
   "language": "python",
   "name": "python3"
  },
  "language_info": {
   "codemirror_mode": {
    "name": "ipython",
    "version": 3
   },
   "file_extension": ".py",
   "mimetype": "text/x-python",
   "name": "python",
   "nbconvert_exporter": "python",
   "pygments_lexer": "ipython3",
   "version": "3.10.13"
  }
 },
 "nbformat": 4,
 "nbformat_minor": 5
}
