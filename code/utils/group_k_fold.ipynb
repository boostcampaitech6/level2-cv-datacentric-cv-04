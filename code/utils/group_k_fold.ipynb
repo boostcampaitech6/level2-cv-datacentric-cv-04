{
 "cells": [
  {
   "cell_type": "code",
   "execution_count": 1,
   "id": "c785feac-85a3-41df-b970-8330342c5154",
   "metadata": {},
   "outputs": [],
   "source": [
    "import os\n",
    "import os.path as osp\n",
    "import json"
   ]
  },
  {
   "cell_type": "code",
   "execution_count": 2,
   "id": "9566337f-3681-4fdb-9577-bc731341bda0",
   "metadata": {},
   "outputs": [],
   "source": [
    "# root directory\n",
    "root_dir = \"../../data/medical\"\n",
    "\n",
    "# ufo directory & save json file directory\n",
    "ufo_dir = osp.join(root_dir, \"ufo\")"
   ]
  },
  {
   "cell_type": "code",
   "execution_count": 3,
   "id": "64320fac-753c-43ba-93f4-77ca2f45abef",
   "metadata": {},
   "outputs": [],
   "source": [
    "# json 파일 불러오기\n",
    "with open(osp.join(ufo_dir, \"train.json\"), \"r\") as f:\n",
    "    annotations = json.load(f)"
   ]
  },
  {
   "cell_type": "code",
   "execution_count": 4,
   "id": "258ee036-e36a-40c9-a608-9cfa3334c6cb",
   "metadata": {},
   "outputs": [],
   "source": [
    "# file name list로 저장\n",
    "file_names = sorted(annotations[\"images\"].keys())"
   ]
  },
  {
   "cell_type": "code",
   "execution_count": 5,
   "id": "e560bbc6-32c8-4645-b633-b2581c207a45",
   "metadata": {},
   "outputs": [],
   "source": [
    "# file_names 슬라이싱 결과를 통해 fold로 나눠주는 함수\n",
    "def make_k_fold(file_names):\n",
    "    new_ann = dict()\n",
    "    for file_name in file_names:\n",
    "        new_ann[file_name] = annotations[\"images\"][file_name]\n",
    "    return new_ann"
   ]
  },
  {
   "cell_type": "code",
   "execution_count": 6,
   "id": "407b86fd-6f8f-49b3-a038-a15decbc4a68",
   "metadata": {},
   "outputs": [],
   "source": [
    "# ufo format으로 json 파일을 저장해주는 함수\n",
    "def save_ufo(file, dict_file):\n",
    "    with open(file, \"w\") as f:\n",
    "        json.dump({\"images\": dict_file}, f, indent=2, sort_keys=True)\n",
    "    print(f\"saved {file}\")"
   ]
  },
  {
   "cell_type": "code",
   "execution_count": 7,
   "id": "94ebc6df-d878-4aae-af33-cd5697b2ae9b",
   "metadata": {},
   "outputs": [
    {
     "name": "stdout",
     "output_type": "stream",
     "text": [
      "saved ../data/medical/ufo/valid1.json\n",
      "saved ../data/medical/ufo/train1.json\n"
     ]
    }
   ],
   "source": [
    "val1 = make_k_fold(file_names[:20])\n",
    "train1 = make_k_fold(file_names[20:])\n",
    "save_ufo(osp.join(ufo_dir, \"valid1.json\"), val1)\n",
    "save_ufo(osp.join(ufo_dir, \"train1.json\"), train1)"
   ]
  },
  {
   "cell_type": "code",
   "execution_count": 8,
   "id": "f751adac-9476-469c-90cd-b09ca02d5e89",
   "metadata": {},
   "outputs": [
    {
     "name": "stdout",
     "output_type": "stream",
     "text": [
      "saved ../data/medical/ufo/valid2.json\n",
      "saved ../data/medical/ufo/train2.json\n"
     ]
    }
   ],
   "source": [
    "val2 = make_k_fold(file_names[20:40])\n",
    "train2 = make_k_fold(file_names[:20])\n",
    "train2.update(make_k_fold(file_names[40:]))\n",
    "save_ufo(osp.join(ufo_dir, \"valid2.json\"), val2)\n",
    "save_ufo(osp.join(ufo_dir, \"train2.json\"), train2)"
   ]
  },
  {
   "cell_type": "code",
   "execution_count": 9,
   "id": "ee14506f-5176-4132-9114-1afa5f23eb68",
   "metadata": {},
   "outputs": [
    {
     "name": "stdout",
     "output_type": "stream",
     "text": [
      "saved ../data/medical/ufo/valid3.json\n",
      "saved ../data/medical/ufo/train3.json\n"
     ]
    }
   ],
   "source": [
    "val3 = make_k_fold(file_names[40:60])\n",
    "train3 = make_k_fold(file_names[:40])\n",
    "train3.update(make_k_fold(file_names[60:]))\n",
    "save_ufo(osp.join(ufo_dir, \"valid3.json\"), val3)\n",
    "save_ufo(osp.join(ufo_dir, \"train3.json\"), train3)"
   ]
  },
  {
   "cell_type": "code",
   "execution_count": 10,
   "id": "3b6ca50a-8f41-4346-9bc3-dabccd5fe975",
   "metadata": {},
   "outputs": [
    {
     "name": "stdout",
     "output_type": "stream",
     "text": [
      "saved ../data/medical/ufo/valid4.json\n",
      "saved ../data/medical/ufo/train4.json\n"
     ]
    }
   ],
   "source": [
    "val4 = make_k_fold(file_names[60:80])\n",
    "train4 = make_k_fold(file_names[:60])\n",
    "train4.update(make_k_fold(file_names[80:]))\n",
    "save_ufo(osp.join(ufo_dir, \"valid4.json\"), val4)\n",
    "save_ufo(osp.join(ufo_dir, \"train4.json\"), train4)"
   ]
  },
  {
   "cell_type": "code",
   "execution_count": 11,
   "id": "82946889-4eea-44b1-83ce-862133e18316",
   "metadata": {},
   "outputs": [
    {
     "name": "stdout",
     "output_type": "stream",
     "text": [
      "saved ../data/medical/ufo/valid5.json\n",
      "saved ../data/medical/ufo/train5.json\n"
     ]
    }
   ],
   "source": [
    "val5 = make_k_fold(file_names[80:])\n",
    "train5 = make_k_fold(file_names[:80])\n",
    "save_ufo(osp.join(ufo_dir, \"valid5.json\"), val5)\n",
    "save_ufo(osp.join(ufo_dir, \"train5.json\"), train5)"
   ]
  },
  {
   "cell_type": "code",
   "execution_count": null,
   "id": "1028c495-e5b9-4294-af87-32cc6451e8f6",
   "metadata": {},
   "outputs": [],
   "source": []
  }
 ],
 "metadata": {
  "kernelspec": {
   "display_name": "Python 3 (ipykernel)",
   "language": "python",
   "name": "python3"
  },
  "language_info": {
   "codemirror_mode": {
    "name": "ipython",
    "version": 3
   },
   "file_extension": ".py",
   "mimetype": "text/x-python",
   "name": "python",
   "nbconvert_exporter": "python",
   "pygments_lexer": "ipython3",
   "version": "3.8.5"
  }
 },
 "nbformat": 4,
 "nbformat_minor": 5
}
