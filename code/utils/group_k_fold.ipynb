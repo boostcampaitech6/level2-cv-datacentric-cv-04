{
 "cells": [
  {
   "cell_type": "code",
   "execution_count": 1,
   "id": "c785feac-85a3-41df-b970-8330342c5154",
   "metadata": {},
   "outputs": [],
   "source": [
    "import os\n",
    "import os.path as osp\n",
    "import json"
   ]
  },
  {
   "cell_type": "code",
   "execution_count": 7,
   "id": "64320fac-753c-43ba-93f4-77ca2f45abef",
   "metadata": {},
   "outputs": [],
   "source": [
    "# root directory\n",
    "root_dir = \"../../data/medical\"\n",
    "\n",
    "# ufo directory & save json file directory\n",
    "ufo_dir = osp.join(root_dir, \"ufo\")\n",
    "\n",
    "# json 파일 불러오기\n",
    "with open(osp.join(ufo_dir, \"train.json\"), \"r\") as f:\n",
    "    annotations = json.load(f)\n",
    "\n",
    "# file name list로 저장\n",
    "file_names = sorted(annotations[\"images\"].keys())"
   ]
  },
  {
   "cell_type": "code",
   "execution_count": 8,
   "id": "e560bbc6-32c8-4645-b633-b2581c207a45",
   "metadata": {},
   "outputs": [],
   "source": [
    "# file_names 슬라이싱 결과를 통해 fold로 나눠주는 함수\n",
    "def make_k_fold(file_names):\n",
    "    new_ann = dict()\n",
    "    for file_name in file_names:\n",
    "        new_ann[file_name] = annotations[\"images\"][file_name]\n",
    "    return new_ann\n",
    "    \n",
    "# ufo format으로 json 파일을 저장해주는 함수\n",
    "def save_ufo(file, dict_file):\n",
    "    with open(file, \"w\") as f:\n",
    "        json.dump({\"images\": dict_file}, f, indent=2, sort_keys=True)\n",
    "    print(f\"saved {file}\")"
   ]
  },
  {
   "cell_type": "code",
   "execution_count": 18,
   "id": "94ebc6df-d878-4aae-af33-cd5697b2ae9b",
   "metadata": {},
   "outputs": [
    {
     "name": "stdout",
     "output_type": "stream",
     "text": [
      "16\n",
      "val: 0:16\n",
      "train: :0 + 16:\n",
      "saved ../../data/medical/ufo/valid1.json\n",
      "saved ../../data/medical/ufo/train1.json\n",
      "val: 16:32\n",
      "train: :16 + 32:\n",
      "saved ../../data/medical/ufo/valid2.json\n",
      "saved ../../data/medical/ufo/train2.json\n",
      "val: 32:48\n",
      "train: :32 + 48:\n",
      "saved ../../data/medical/ufo/valid3.json\n",
      "saved ../../data/medical/ufo/train3.json\n",
      "val: 48:64\n",
      "train: :48 + 64:\n",
      "saved ../../data/medical/ufo/valid4.json\n",
      "saved ../../data/medical/ufo/train4.json\n",
      "val: 64:80\n",
      "train: :64 + 80:\n",
      "saved ../../data/medical/ufo/valid5.json\n",
      "saved ../../data/medical/ufo/train5.json\n",
      "val: 80:96\n",
      "train: :80 + 96:\n",
      "saved ../../data/medical/ufo/valid6.json\n",
      "saved ../../data/medical/ufo/train6.json\n"
     ]
    }
   ],
   "source": [
    "split_cnt = len(file_names)//6\n",
    "print(split_cnt)\n",
    "\n",
    "for i in range(6):\n",
    "    # if i == 5:\n",
    "    #     print(f\"val: {i*split_cnt}:\")\n",
    "    #     print(f\"train: :{i*split_cnt}\")\n",
    "    #     val = make_k_fold(file_names[i*split_cnt:])\n",
    "    #     train = make_k_fold(file_names[:i*split_cnt])\n",
    "    #     save_ufo(osp.join(ufo_dir, f\"valid{i+1}.json\"), val)\n",
    "    #     save_ufo(osp.join(ufo_dir, f\"train{i+1}.json\"), train)\n",
    "    # else:\n",
    "        print(f\"val: {i*split_cnt}:{(i+1)*split_cnt}\")\n",
    "        print(f\"train: :{i*split_cnt} + {(i+1)*split_cnt}:\")\n",
    "        val = make_k_fold(file_names[i*split_cnt:(i+1)*split_cnt])\n",
    "        train = make_k_fold(file_names[:i*split_cnt])\n",
    "        train.update(make_k_fold(file_names[(i+1)*split_cnt:]))\n",
    "        save_ufo(osp.join(ufo_dir, f\"valid{i+1}.json\"), val)\n",
    "        save_ufo(osp.join(ufo_dir, f\"train{i+1}.json\"), train)\n",
    "\n"
   ]
  },
  {
   "cell_type": "code",
   "execution_count": null,
   "id": "0fd8afe1",
   "metadata": {},
   "outputs": [],
   "source": []
  }
 ],
 "metadata": {
  "kernelspec": {
   "display_name": "Python 3 (ipykernel)",
   "language": "python",
   "name": "python3"
  },
  "language_info": {
   "codemirror_mode": {
    "name": "ipython",
    "version": 3
   },
   "file_extension": ".py",
   "mimetype": "text/x-python",
   "name": "python",
   "nbconvert_exporter": "python",
   "pygments_lexer": "ipython3",
   "version": "3.8.5"
  }
 },
 "nbformat": 4,
 "nbformat_minor": 5
}
