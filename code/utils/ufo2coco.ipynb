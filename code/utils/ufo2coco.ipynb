{
 "cells": [
  {
   "cell_type": "markdown",
   "id": "ddd44bbf",
   "metadata": {},
   "source": [
    "## UFO to COCO"
   ]
  },
  {
   "cell_type": "code",
   "execution_count": 1,
   "id": "622737c2",
   "metadata": {},
   "outputs": [],
   "source": [
    "import json\n",
    "from typing import Dict, Any\n",
    "from collections import Counter"
   ]
  },
  {
   "cell_type": "code",
   "execution_count": 2,
   "id": "38001c0b",
   "metadata": {},
   "outputs": [],
   "source": [
    "def convert_to_coco_format(data: Dict[str, Any]):\n",
    "    coco_data = {\n",
    "        \"images\": [],\n",
    "        \"annotations\": [],\n",
    "        \"categories\": [{\"id\": 1, \"name\": \"text\"}], # 이부분은 비워놔도 됨(only text)\n",
    "    }\n",
    "\n",
    "    image_id_counter = 1\n",
    "    annotation_id_counter = 1\n",
    "\n",
    "    for file_name, file_data in data[\"images\"].items():\n",
    "        image_id = image_id_counter\n",
    "\n",
    "        coco_image = {\n",
    "            \"id\": image_id,\n",
    "            \"width\": file_data[\"img_w\"],\n",
    "            \"height\": file_data[\"img_h\"],\n",
    "            \"file_name\": file_name,\n",
    "            \"license\": 123,\n",
    "            \"flickr_url\": None,\n",
    "            \"coco_url\": None,\n",
    "            \"date_captured\": \"2023-05-21 17:02:52\"\n",
    "        }\n",
    "        coco_data[\"images\"].append(coco_image)\n",
    "\n",
    "        for word_id, word_data in file_data[\"words\"].items():\n",
    "            annotation_id = annotation_id_counter\n",
    "            [tl, tr, br, bl] = word_data[\"points\"]\n",
    "            width = max(tl[0], tr[0], br[0], bl[0]) - min(tl[0], tr[0], br[0], bl[0])\n",
    "            height = max(tl[1], tr[1], br[1], bl[1]) - min(tl[1], tr[1], br[1], bl[1])\n",
    "            x = min(tl[0], tr[0], br[0], bl[0])\n",
    "            y = min(tl[1], tr[1], br[1], bl[1])\n",
    "            coco_annotation = {\n",
    "                \"id\": annotation_id,\n",
    "                \"image_id\": image_id,\n",
    "                \"category_id\": 1,  # 전부 text\n",
    "#                 \"bbox\": [tl[0], tl[1], width, height],\n",
    "                # tl[0], tl[1] 사용시 가로쓰기 세로모양에 대한 bbox가 이상하게 됨\n",
    "                \"segmentation\": [],\n",
    "                \"area\": width * height,\n",
    "                \"bbox\": [x, y, width, height],\n",
    "                \"iscrowd\": 0  \n",
    "            }\n",
    "            coco_data[\"annotations\"].append(coco_annotation)\n",
    "\n",
    "            annotation_id_counter += 1  # 새로운 word 마다 +1\n",
    "\n",
    "        image_id_counter += 1  # 새로운 image 마다 +1\n",
    "\n",
    "    return coco_data"
   ]
  },
  {
   "cell_type": "code",
   "execution_count": 3,
   "id": "f66fe087",
   "metadata": {},
   "outputs": [],
   "source": [
    "# Load UFO json\n",
    "with open(\"train.json\") as f:\n",
    "    data = json.load(f)"
   ]
  },
  {
   "cell_type": "code",
   "execution_count": 4,
   "id": "9256cc05",
   "metadata": {},
   "outputs": [
    {
     "ename": "ValueError",
     "evalue": "too many values to unpack (expected 4)",
     "output_type": "error",
     "traceback": [
      "\u001b[0;31m---------------------------------------------------------------------------\u001b[0m",
      "\u001b[0;31mValueError\u001b[0m                                Traceback (most recent call last)",
      "Cell \u001b[0;32mIn[4], line 2\u001b[0m\n\u001b[1;32m      1\u001b[0m \u001b[38;5;66;03m# Convert to COCO\u001b[39;00m\n\u001b[0;32m----> 2\u001b[0m coco_data \u001b[38;5;241m=\u001b[39m \u001b[43mconvert_to_coco_format\u001b[49m\u001b[43m(\u001b[49m\u001b[43mdata\u001b[49m\u001b[43m)\u001b[49m\n",
      "Cell \u001b[0;32mIn[2], line 28\u001b[0m, in \u001b[0;36mconvert_to_coco_format\u001b[0;34m(data)\u001b[0m\n\u001b[1;32m     26\u001b[0m \u001b[38;5;28;01mfor\u001b[39;00m word_id, word_data \u001b[38;5;129;01min\u001b[39;00m file_data[\u001b[38;5;124m\"\u001b[39m\u001b[38;5;124mwords\u001b[39m\u001b[38;5;124m\"\u001b[39m]\u001b[38;5;241m.\u001b[39mitems():\n\u001b[1;32m     27\u001b[0m     annotation_id \u001b[38;5;241m=\u001b[39m annotation_id_counter\n\u001b[0;32m---> 28\u001b[0m     [tl, tr, br, bl] \u001b[38;5;241m=\u001b[39m word_data[\u001b[38;5;124m\"\u001b[39m\u001b[38;5;124mpoints\u001b[39m\u001b[38;5;124m\"\u001b[39m]\n\u001b[1;32m     29\u001b[0m     width \u001b[38;5;241m=\u001b[39m \u001b[38;5;28mmax\u001b[39m(tl[\u001b[38;5;241m0\u001b[39m], tr[\u001b[38;5;241m0\u001b[39m], br[\u001b[38;5;241m0\u001b[39m], bl[\u001b[38;5;241m0\u001b[39m]) \u001b[38;5;241m-\u001b[39m \u001b[38;5;28mmin\u001b[39m(tl[\u001b[38;5;241m0\u001b[39m], tr[\u001b[38;5;241m0\u001b[39m], br[\u001b[38;5;241m0\u001b[39m], bl[\u001b[38;5;241m0\u001b[39m])\n\u001b[1;32m     30\u001b[0m     height \u001b[38;5;241m=\u001b[39m \u001b[38;5;28mmax\u001b[39m(tl[\u001b[38;5;241m1\u001b[39m], tr[\u001b[38;5;241m1\u001b[39m], br[\u001b[38;5;241m1\u001b[39m], bl[\u001b[38;5;241m1\u001b[39m]) \u001b[38;5;241m-\u001b[39m \u001b[38;5;28mmin\u001b[39m(tl[\u001b[38;5;241m1\u001b[39m], tr[\u001b[38;5;241m1\u001b[39m], br[\u001b[38;5;241m1\u001b[39m], bl[\u001b[38;5;241m1\u001b[39m])\n",
      "\u001b[0;31mValueError\u001b[0m: too many values to unpack (expected 4)"
     ]
    }
   ],
   "source": [
    "# Convert to COCO\n",
    "coco_data = convert_to_coco_format(data)"
   ]
  },
  {
   "cell_type": "code",
   "execution_count": 8,
   "id": "c0d6444a",
   "metadata": {},
   "outputs": [],
   "source": [
    "# Save COCO json\n",
    "with open(\"val_mosaic_relabel_coco.json\", \"w\") as f:\n",
    "    json.dump(coco_data, f)"
   ]
  },
  {
   "cell_type": "code",
   "execution_count": null,
   "id": "0499c4dc",
   "metadata": {},
   "outputs": [],
   "source": []
  }
 ],
 "metadata": {
  "kernelspec": {
   "display_name": "Python 3 (ipykernel)",
   "language": "python",
   "name": "python3"
  },
  "language_info": {
   "codemirror_mode": {
    "name": "ipython",
    "version": 3
   },
   "file_extension": ".py",
   "mimetype": "text/x-python",
   "name": "python",
   "nbconvert_exporter": "python",
   "pygments_lexer": "ipython3",
   "version": "3.8.5"
  }
 },
 "nbformat": 4,
 "nbformat_minor": 5
}
