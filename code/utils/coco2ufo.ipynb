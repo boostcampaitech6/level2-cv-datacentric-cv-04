{
 "cells": [
  {
   "cell_type": "code",
   "execution_count": 1,
   "id": "56f77981",
   "metadata": {},
   "outputs": [],
   "source": [
    "import json\n",
    "from typing import Dict, Any\n",
    "from collections import Counter"
   ]
  },
  {
   "cell_type": "code",
   "execution_count": 2,
   "id": "2e713e56",
   "metadata": {},
   "outputs": [],
   "source": [
    "def convert_to_your_format(data: Dict[str, Any]):\n",
    "    your_format = {\"images\": {}}\n",
    "\n",
    "    # imd id : 파일명 형태의 dictionary\n",
    "    image_id_to_filename = {img[\"id\"]: img[\"file_name\"] for img in data[\"images\"]}\n",
    "\n",
    "    for annotation in data[\"annotations\"]:\n",
    "        image_id = annotation[\"image_id\"]\n",
    "        image_name = image_id_to_filename[image_id]\n",
    "        bbox = annotation[\"bbox\"]\n",
    "\n",
    "        tl = [bbox[0], bbox[1]]\n",
    "        tr = [bbox[0] + bbox[2], bbox[1]]\n",
    "        br = [bbox[0] + bbox[2], bbox[1] + bbox[3]]\n",
    "        bl = [bbox[0], bbox[1] + bbox[3]]\n",
    "        \n",
    "        # COCO에서 UFO로 변환시 비는 정보는 placeholder로 대체\n",
    "        if image_name not in your_format[\"images\"]:\n",
    "            your_format[\"images\"][image_name] = {\n",
    "                \"paragraphs\": {},\n",
    "                \"words\": {},\n",
    "                \"chars\": {},\n",
    "                \"img_w\": data[\"images\"][image_id - 1][\"width\"],  # img_id가 1로 시작한다고 가정\n",
    "                \"img_h\": data[\"images\"][image_id - 1][\"height\"],  # img_id가 1로 시작한다고 가정\n",
    "                \"tags\": [\"autoannotated\"], \n",
    "                \"relations\": {},\n",
    "                \"annotation_log\": {\n",
    "                    \"worker\": \"worker\",\n",
    "                    \"timestamp\": \"2023-03-22\",\n",
    "                    \"tool_version\": \"\",\n",
    "                    \"source\": None\n",
    "                },\n",
    "                \"license_tag\": {\n",
    "                    \"usability\": True,\n",
    "                    \"public\": False,\n",
    "                    \"commercial\": True,\n",
    "                    \"type\": None,\n",
    "                    \"holder\": \"Upstage\"\n",
    "                }\n",
    "            }\n",
    "\n",
    "        your_format[\"images\"][image_name][\"words\"][str(annotation[\"id\"]).zfill(4)] = {\n",
    "            \"transcription\": \"\",  \n",
    "            \"points\": [tl, tr, br, bl],\n",
    "            \"orientation\": \"Horizontal\",  # horizontal로 가정 되고 tag가 붙여짐\n",
    "            \"language\": None,  \n",
    "            \"tags\": [\"Auto\"],  \n",
    "            \"confidence\": None,  \n",
    "            \"illegibility\": False \n",
    "        }\n",
    "\n",
    "    return your_format"
   ]
  },
  {
   "cell_type": "code",
   "execution_count": 3,
   "id": "a7c3e05b",
   "metadata": {},
   "outputs": [
    {
     "ename": "IndexError",
     "evalue": "list index out of range",
     "output_type": "error",
     "traceback": [
      "\u001b[0;31m---------------------------------------------------------------------------\u001b[0m",
      "\u001b[0;31mIndexError\u001b[0m                                Traceback (most recent call last)",
      "Cell \u001b[0;32mIn[3], line 6\u001b[0m\n\u001b[1;32m      3\u001b[0m     coco_data \u001b[38;5;241m=\u001b[39m json\u001b[38;5;241m.\u001b[39mload(f)\n\u001b[1;32m      5\u001b[0m \u001b[38;5;66;03m# UFO로 변환\u001b[39;00m\n\u001b[0;32m----> 6\u001b[0m your_format_data \u001b[38;5;241m=\u001b[39m \u001b[43mconvert_to_your_format\u001b[49m\u001b[43m(\u001b[49m\u001b[43mcoco_data\u001b[49m\u001b[43m)\u001b[49m\n\u001b[1;32m      8\u001b[0m \u001b[38;5;66;03m# UFO JSON Save\u001b[39;00m\n\u001b[1;32m      9\u001b[0m \u001b[38;5;28;01mwith\u001b[39;00m \u001b[38;5;28mopen\u001b[39m(\u001b[38;5;124m\"\u001b[39m\u001b[38;5;124m../../data/medical/ufo/train_ver3.json\u001b[39m\u001b[38;5;124m\"\u001b[39m, \u001b[38;5;124m\"\u001b[39m\u001b[38;5;124mw\u001b[39m\u001b[38;5;124m\"\u001b[39m) \u001b[38;5;28;01mas\u001b[39;00m f:\n",
      "Cell \u001b[0;32mIn[2], line 23\u001b[0m, in \u001b[0;36mconvert_to_your_format\u001b[0;34m(data)\u001b[0m\n\u001b[1;32m     17\u001b[0m     \u001b[38;5;66;03m# COCO에서 UFO로 변환시 비는 정보는 placeholder로 대체\u001b[39;00m\n\u001b[1;32m     18\u001b[0m     \u001b[38;5;28;01mif\u001b[39;00m image_name \u001b[38;5;129;01mnot\u001b[39;00m \u001b[38;5;129;01min\u001b[39;00m your_format[\u001b[38;5;124m\"\u001b[39m\u001b[38;5;124mimages\u001b[39m\u001b[38;5;124m\"\u001b[39m]:\n\u001b[1;32m     19\u001b[0m         your_format[\u001b[38;5;124m\"\u001b[39m\u001b[38;5;124mimages\u001b[39m\u001b[38;5;124m\"\u001b[39m][image_name] \u001b[38;5;241m=\u001b[39m {\n\u001b[1;32m     20\u001b[0m             \u001b[38;5;124m\"\u001b[39m\u001b[38;5;124mparagraphs\u001b[39m\u001b[38;5;124m\"\u001b[39m: {},\n\u001b[1;32m     21\u001b[0m             \u001b[38;5;124m\"\u001b[39m\u001b[38;5;124mwords\u001b[39m\u001b[38;5;124m\"\u001b[39m: {},\n\u001b[1;32m     22\u001b[0m             \u001b[38;5;124m\"\u001b[39m\u001b[38;5;124mchars\u001b[39m\u001b[38;5;124m\"\u001b[39m: {},\n\u001b[0;32m---> 23\u001b[0m             \u001b[38;5;124m\"\u001b[39m\u001b[38;5;124mimg_w\u001b[39m\u001b[38;5;124m\"\u001b[39m: \u001b[43mdata\u001b[49m\u001b[43m[\u001b[49m\u001b[38;5;124;43m\"\u001b[39;49m\u001b[38;5;124;43mimages\u001b[39;49m\u001b[38;5;124;43m\"\u001b[39;49m\u001b[43m]\u001b[49m\u001b[43m[\u001b[49m\u001b[43mimage_id\u001b[49m\u001b[43m \u001b[49m\u001b[38;5;241;43m-\u001b[39;49m\u001b[43m \u001b[49m\u001b[38;5;241;43m1\u001b[39;49m\u001b[43m]\u001b[49m[\u001b[38;5;124m\"\u001b[39m\u001b[38;5;124mwidth\u001b[39m\u001b[38;5;124m\"\u001b[39m],  \u001b[38;5;66;03m# img_id가 1로 시작한다고 가정\u001b[39;00m\n\u001b[1;32m     24\u001b[0m             \u001b[38;5;124m\"\u001b[39m\u001b[38;5;124mimg_h\u001b[39m\u001b[38;5;124m\"\u001b[39m: data[\u001b[38;5;124m\"\u001b[39m\u001b[38;5;124mimages\u001b[39m\u001b[38;5;124m\"\u001b[39m][image_id \u001b[38;5;241m-\u001b[39m \u001b[38;5;241m1\u001b[39m][\u001b[38;5;124m\"\u001b[39m\u001b[38;5;124mheight\u001b[39m\u001b[38;5;124m\"\u001b[39m],  \u001b[38;5;66;03m# img_id가 1로 시작한다고 가정\u001b[39;00m\n\u001b[1;32m     25\u001b[0m             \u001b[38;5;124m\"\u001b[39m\u001b[38;5;124mtags\u001b[39m\u001b[38;5;124m\"\u001b[39m: [\u001b[38;5;124m\"\u001b[39m\u001b[38;5;124mautoannotated\u001b[39m\u001b[38;5;124m\"\u001b[39m], \n\u001b[1;32m     26\u001b[0m             \u001b[38;5;124m\"\u001b[39m\u001b[38;5;124mrelations\u001b[39m\u001b[38;5;124m\"\u001b[39m: {},\n\u001b[1;32m     27\u001b[0m             \u001b[38;5;124m\"\u001b[39m\u001b[38;5;124mannotation_log\u001b[39m\u001b[38;5;124m\"\u001b[39m: {\n\u001b[1;32m     28\u001b[0m                 \u001b[38;5;124m\"\u001b[39m\u001b[38;5;124mworker\u001b[39m\u001b[38;5;124m\"\u001b[39m: \u001b[38;5;124m\"\u001b[39m\u001b[38;5;124mworker\u001b[39m\u001b[38;5;124m\"\u001b[39m,\n\u001b[1;32m     29\u001b[0m                 \u001b[38;5;124m\"\u001b[39m\u001b[38;5;124mtimestamp\u001b[39m\u001b[38;5;124m\"\u001b[39m: \u001b[38;5;124m\"\u001b[39m\u001b[38;5;124m2023-03-22\u001b[39m\u001b[38;5;124m\"\u001b[39m,\n\u001b[1;32m     30\u001b[0m                 \u001b[38;5;124m\"\u001b[39m\u001b[38;5;124mtool_version\u001b[39m\u001b[38;5;124m\"\u001b[39m: \u001b[38;5;124m\"\u001b[39m\u001b[38;5;124m\"\u001b[39m,\n\u001b[1;32m     31\u001b[0m                 \u001b[38;5;124m\"\u001b[39m\u001b[38;5;124msource\u001b[39m\u001b[38;5;124m\"\u001b[39m: \u001b[38;5;28;01mNone\u001b[39;00m\n\u001b[1;32m     32\u001b[0m             },\n\u001b[1;32m     33\u001b[0m             \u001b[38;5;124m\"\u001b[39m\u001b[38;5;124mlicense_tag\u001b[39m\u001b[38;5;124m\"\u001b[39m: {\n\u001b[1;32m     34\u001b[0m                 \u001b[38;5;124m\"\u001b[39m\u001b[38;5;124musability\u001b[39m\u001b[38;5;124m\"\u001b[39m: \u001b[38;5;28;01mTrue\u001b[39;00m,\n\u001b[1;32m     35\u001b[0m                 \u001b[38;5;124m\"\u001b[39m\u001b[38;5;124mpublic\u001b[39m\u001b[38;5;124m\"\u001b[39m: \u001b[38;5;28;01mFalse\u001b[39;00m,\n\u001b[1;32m     36\u001b[0m                 \u001b[38;5;124m\"\u001b[39m\u001b[38;5;124mcommercial\u001b[39m\u001b[38;5;124m\"\u001b[39m: \u001b[38;5;28;01mTrue\u001b[39;00m,\n\u001b[1;32m     37\u001b[0m                 \u001b[38;5;124m\"\u001b[39m\u001b[38;5;124mtype\u001b[39m\u001b[38;5;124m\"\u001b[39m: \u001b[38;5;28;01mNone\u001b[39;00m,\n\u001b[1;32m     38\u001b[0m                 \u001b[38;5;124m\"\u001b[39m\u001b[38;5;124mholder\u001b[39m\u001b[38;5;124m\"\u001b[39m: \u001b[38;5;124m\"\u001b[39m\u001b[38;5;124mUpstage\u001b[39m\u001b[38;5;124m\"\u001b[39m\n\u001b[1;32m     39\u001b[0m             }\n\u001b[1;32m     40\u001b[0m         }\n\u001b[1;32m     42\u001b[0m     your_format[\u001b[38;5;124m\"\u001b[39m\u001b[38;5;124mimages\u001b[39m\u001b[38;5;124m\"\u001b[39m][image_name][\u001b[38;5;124m\"\u001b[39m\u001b[38;5;124mwords\u001b[39m\u001b[38;5;124m\"\u001b[39m][\u001b[38;5;28mstr\u001b[39m(annotation[\u001b[38;5;124m\"\u001b[39m\u001b[38;5;124mid\u001b[39m\u001b[38;5;124m\"\u001b[39m])\u001b[38;5;241m.\u001b[39mzfill(\u001b[38;5;241m4\u001b[39m)] \u001b[38;5;241m=\u001b[39m {\n\u001b[1;32m     43\u001b[0m         \u001b[38;5;124m\"\u001b[39m\u001b[38;5;124mtranscription\u001b[39m\u001b[38;5;124m\"\u001b[39m: \u001b[38;5;124m\"\u001b[39m\u001b[38;5;124m\"\u001b[39m,  \n\u001b[1;32m     44\u001b[0m         \u001b[38;5;124m\"\u001b[39m\u001b[38;5;124mpoints\u001b[39m\u001b[38;5;124m\"\u001b[39m: [tl, tr, br, bl],\n\u001b[0;32m   (...)\u001b[0m\n\u001b[1;32m     49\u001b[0m         \u001b[38;5;124m\"\u001b[39m\u001b[38;5;124millegibility\u001b[39m\u001b[38;5;124m\"\u001b[39m: \u001b[38;5;28;01mFalse\u001b[39;00m \n\u001b[1;32m     50\u001b[0m     }\n\u001b[1;32m     52\u001b[0m \u001b[38;5;28;01mreturn\u001b[39;00m your_format\n",
      "\u001b[0;31mIndexError\u001b[0m: list index out of range"
     ]
    }
   ],
   "source": [
    "# Load COCO JSON\n",
    "with open(\"../../data/medical/ufo/coco_cleaned.json\") as f:\n",
    "    coco_data = json.load(f)\n",
    "\n",
    "# UFO로 변환\n",
    "your_format_data = convert_to_your_format(coco_data)\n",
    "\n",
    "# UFO JSON Save\n",
    "with open(\"../../data/medical/ufo/train_ver3.json\", \"w\") as f:\n",
    "    json.dump(your_format_data, f)"
   ]
  },
  {
   "cell_type": "code",
   "execution_count": null,
   "id": "4ea4f50b",
   "metadata": {},
   "outputs": [],
   "source": []
  }
 ],
 "metadata": {
  "kernelspec": {
   "display_name": "Python 3 (ipykernel)",
   "language": "python",
   "name": "python3"
  },
  "language_info": {
   "codemirror_mode": {
    "name": "ipython",
    "version": 3
   },
   "file_extension": ".py",
   "mimetype": "text/x-python",
   "name": "python",
   "nbconvert_exporter": "python",
   "pygments_lexer": "ipython3",
   "version": "3.10.13"
  }
 },
 "nbformat": 4,
 "nbformat_minor": 5
}
